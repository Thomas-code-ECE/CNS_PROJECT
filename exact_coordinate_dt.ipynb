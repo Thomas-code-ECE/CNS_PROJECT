{
 "cells": [
  {
   "cell_type": "code",
   "execution_count": 39,
   "metadata": {},
   "outputs": [],
   "source": [
    "import numpy as np\n",
    "import pandas as pd\n",
    "import os\n",
    "from sklearn.tree import DecisionTreeRegressor\n",
    "from sklearn.model_selection import train_test_split\n",
    "from sklearn import metrics  "
   ]
  },
  {
   "cell_type": "code",
   "execution_count": 40,
   "metadata": {},
   "outputs": [],
   "source": [
    "experiment_names = ['R2192', 'R2198', 'R2217','R2336','R2337' ]\n",
    "mae = []\n",
    "mse = []\n",
    "rmse = []\n",
    "for name in experiment_names:\n",
    "    experiment_name = name\n",
    "    features_set = pd.DataFrame()\n",
    "    coordinates_set = pd.DataFrame()\n",
    "    for i in range(200, 4200, 200):\n",
    "        feature_path = 'data/{}_1x{}_at{}_step200_bin100-RAW_feat.dat'.format(experiment_name, i, i//40)\n",
    "        label_path = 'data/{}_1x{}_at{}_step200_bin100-RAW_pos.dat'.format(experiment_name, i, i//40)\n",
    "\n",
    "        if(os.path.exists(feature_path)):\n",
    "            features_set = pd.concat([features_set, pd.read_csv(feature_path, \\\n",
    "                delim_whitespace=True, header=None )],ignore_index=True,)\n",
    "        if(os.path.exists(label_path)):\n",
    "            coordinates_set = pd.concat([coordinates_set, pd.read_csv(label_path, \\\n",
    "                delim_whitespace=True,names = ['x','y'])],ignore_index=True)\n",
    "\n",
    "    dataset = pd.concat([features_set, coordinates_set], axis=1)\n",
    "    dataset.drop_duplicates(inplace=True)\n",
    "    features_set = dataset.drop(['x', 'y'], axis=1)\n",
    "    coordinates_set = dataset[['x', 'y']]\n",
    "\n",
    "    features_train, features_test, coordinates_train, coordinates_test = train_test_split(features_set,coordinates_set,train_size = 0.80)\n",
    "    model = DecisionTreeRegressor(random_state=15784) \n",
    "    model.fit(features_train, coordinates_train)\n",
    "    predicted = model.predict(features_test)\n",
    "\n",
    "    mae.append(metrics.mean_absolute_error(coordinates_test, predicted))\n",
    "    mse.append(metrics.mean_squared_error(coordinates_test, predicted))\n",
    "    rmse.append(np.sqrt(metrics.mean_squared_error(coordinates_test, predicted)))\n"
   ]
  },
  {
   "cell_type": "code",
   "execution_count": 41,
   "metadata": {},
   "outputs": [
    {
     "data": {
      "image/png": "[encoded data removed]",
      "text/plain": [
       "<Figure size 1440x360 with 3 Axes>"
      ]
     },
     "metadata": {
      "needs_background": "light"
     },
     "output_type": "display_data"
    }
   ],
   "source": [
    "import matplotlib.pyplot as plt\n",
    "fig, (ax1, ax2, ax3) = plt.subplots(1, 3)\n",
    "rats = ['R2192', 'R2198', '2217', 'R2336', 'R2337']\n",
    "plt.rcParams['figure.figsize'] = (20,5)\n",
    "\n",
    "ax1.bar(rats,mse)\n",
    "ax2.bar(rats, mae)\n",
    "ax3.bar(rats, rmse)\n",
    "ax1.set_xlabel('Rats')\n",
    "ax1.set_ylabel('Mean Squared Error')\n",
    "ax2.set_xlabel('Rats')\n",
    "ax2.set_ylabel('Mean Absolute Error')\n",
    "ax3.set_xlabel('Rats')\n",
    "ax3.set_ylabel('Root Mean Squared Error')\n",
    "plt.show()"
   ]
  }
 ],
 "metadata": {
  "interpreter": {
   "hash": "a66689de6b032c93e46803a1f0b7d2315018f63b3e292ce0aecb8bb93a571f0a"
  },
  "kernelspec": {
   "display_name": "Python 3.9.7 64-bit ('its2021': conda)",
   "language": "python",
   "name": "python3"
  },
  "language_info": {
   "codemirror_mode": {
    "name": "ipython",
    "version": 3
   },
   "file_extension": ".py",
   "mimetype": "text/x-python",
   "name": "python",
   "nbconvert_exporter": "python",
   "pygments_lexer": "ipython3",
   "version": "3.9.7"
  },
  "orig_nbformat": 4
 },
 "nbformat": 4,
 "nbformat_minor": 2
}
